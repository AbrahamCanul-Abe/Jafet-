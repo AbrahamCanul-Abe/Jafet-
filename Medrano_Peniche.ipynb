{
  "nbformat": 4,
  "nbformat_minor": 0,
  "metadata": {
    "colab": {
      "name": "Medrano_Peniche.ipynb",
      "provenance": [],
      "collapsed_sections": []
    },
    "kernelspec": {
      "name": "python3",
      "display_name": "Python 3"
    },
    "language_info": {
      "name": "python"
    }
  },
  "cells": [
    {
      "cell_type": "markdown",
      "metadata": {
        "id": "sIfAhfsO4uoN"
      },
      "source": [
        "Jafet de Jesús Medrano Peniche ID:"
      ]
    },
    {
      "cell_type": "code",
      "metadata": {
        "colab": {
          "base_uri": "https://localhost:8080/"
        },
        "id": "f79xbLITUaoJ",
        "outputId": "b539a723-7e42-49ff-84bc-f22811f8937f"
      },
      "source": [
        "#Ejercicio a\n",
        "\n",
        "print (\"Resolver y = x**4+ 3x**3–5x**2+8 \")\n",
        "x=int(input(\"Ingrese un valor para x = \"))\n",
        "\n",
        "y = (x**4)+(3*x**3)-(5*x**2)+8\n",
        "\n",
        "print (\"Y= \" + str(y)) "
      ],
      "execution_count": null,
      "outputs": [
        {
          "output_type": "stream",
          "text": [
            "Resolver y = x**4+ 3x**3–5x**2+8 \n",
            "Ingrese un valor para x = 1\n",
            "Y= 7\n"
          ],
          "name": "stdout"
        }
      ]
    },
    {
      "cell_type": "code",
      "metadata": {
        "colab": {
          "base_uri": "https://localhost:8080/"
        },
        "id": "lOJQ5V2WcVYl",
        "outputId": "82a9f8c6-8f06-47fc-d0f0-3d798f974574"
      },
      "source": [
        "#Ejercicio b\n",
        "\n",
        "print(\"Resolver l = (4m**5+ 5n**6)**2\")\n",
        "\n",
        "m=int(input(\"Ingrese un valor para m = \"))\n",
        "n=int(input(\"Ingrese un valor para n = \"))\n",
        "\n",
        "I=((4*m**5)+(5*n**6))**2\n",
        "\n",
        "print (\"I = \"+str(I))"
      ],
      "execution_count": null,
      "outputs": [
        {
          "output_type": "stream",
          "text": [
            "Resolver l = (4m**5+ 5n**6)**2\n",
            "Ingrese un valor para m = 5\n",
            "Ingrese un valor para n = 8\n",
            "I = 1750911168400\n"
          ],
          "name": "stdout"
        }
      ]
    },
    {
      "cell_type": "code",
      "metadata": {
        "colab": {
          "base_uri": "https://localhost:8080/"
        },
        "id": "mEIyCo19hcfZ",
        "outputId": "a0046f04-257f-499e-b682-3daff16a4ae9"
      },
      "source": [
        "#Ejercicio c\n",
        "\n",
        "print(\"Resolver f(x) = m * x + n\")\n",
        "m=int(input(\"Ingrese un valor para m = \"))\n",
        "x=int(input(\"Ingrese un valor para x = \"))\n",
        "n=int(input(\"Ingrese un valor para n = \"))\n",
        "\n",
        "fx = m*x+n\n",
        "\n",
        "print (\"f(x) = \"+str(fx))"
      ],
      "execution_count": null,
      "outputs": [
        {
          "output_type": "stream",
          "text": [
            "Resolver f(x) = m * x + n\n",
            "Ingrese un valor para m = 2\n",
            "Ingrese un valor para x = 5\n",
            "Ingrese un valor para n = 8\n",
            "f(x) = 18\n"
          ],
          "name": "stdout"
        }
      ]
    },
    {
      "cell_type": "code",
      "metadata": {
        "colab": {
          "base_uri": "https://localhost:8080/"
        },
        "id": "I7cNTCGExne3",
        "outputId": "eb5c8664-1460-4ec1-99b0-fd63cac3fe4c"
      },
      "source": [
        "#Ejercicio d\n",
        "\n",
        "import math\n",
        "\n",
        "print(\"Resolver f(x) = √(4-x**2)/x\")\n",
        "x=int(input(\"Ingrese un valor para x = \"))\n",
        "if (x>=3):\n",
        "  print(\"Raiz negativa no se puede realizar la funcion\")\n",
        "else: \n",
        "  raiz=math.sqrt(4-x**2)\n",
        "  float (fx)\n",
        "  fx=(raiz)/x\n",
        "\n",
        "  print (\"f(x) = \"+str(fx))"
      ],
      "execution_count": null,
      "outputs": [
        {
          "output_type": "stream",
          "text": [
            "Resolver f(x) = √(4-x**2)/x\n",
            "Ingrese un valor para x = 5\n",
            "Raiz negativa no se puede realizar la funcion\n"
          ],
          "name": "stdout"
        }
      ]
    },
    {
      "cell_type": "code",
      "metadata": {
        "colab": {
          "base_uri": "https://localhost:8080/"
        },
        "id": "OqtOMp7z3ygC",
        "outputId": "6f25f305-52c3-4e5c-93f6-6be9d6d68f8f"
      },
      "source": [
        "#Ejercicio e\n",
        "\n",
        "print(\"Resolver f(x) = (x**2+1)/(2*x**2-4)\")\n",
        "x=int(input(\"Ingrese un valor para x = \"))\n",
        "\n",
        "float (fx)\n",
        "fx=(x**2+1)/(2*x**2-4)\n",
        "\n",
        "print (\"f(x) = \"+str(fx))"
      ],
      "execution_count": null,
      "outputs": [
        {
          "output_type": "stream",
          "text": [
            "Resolver f(x) = (x**2+1)/(2*x**2-4)\n",
            "Ingrese un valor para x = 4\n",
            "f(x) = 0.6071428571428571\n"
          ],
          "name": "stdout"
        }
      ]
    },
    {
      "cell_type": "markdown",
      "metadata": {
        "id": "b8YRtQGmF96S"
      },
      "source": [
        "**1.- ¿Cual es el lenguaje Python?**\n",
        "Python es un lenguaje de programación interpretado cuya filosofía hace hincapié en la legibilidad de su código. ​ Se trata de un lenguaje de programación multiparadigma, ya que soporta parcialmente la orientación a objetos, programación imperativa y, en menor medida, programación funcional.\n",
        "\n",
        "**2.- ¿Cuales son los tipos de datos Python?**\n",
        "Los tipos de datos básicos de Python son los booleanos, los numéricos (enteros, punto flotante y complejos) y las cadenas de caracteres.\n",
        "\n",
        "**3.- ¿Cual es la diferencia entre una variable y una palabra reservada?**\n",
        "Una palabra reservada es una palabra que tiene un significado gramatical especial para ese lenguaje y no puede ser utilizada como un identificador de objetos en códigos del mismo, como pueden ser las variables.\n",
        "\n",
        "**4.- Operadores Aritmetricos.**\n",
        "\n",
        "– Resta al operando de la izquierda el valor del operando de la\n",
        "derecha. Utilizado sobre un único operando, le cambia el signo.\n",
        "\n",
        "*\tProducto/Multiplicación de dos operandos.\n",
        "\n",
        "/\tDivide el operando de la izquierda por el de la derecha (el resultado siempre es un float ).\n",
        "\n",
        "**5.-¿Cual es la instruccion para agregar una entrada en Python y cual para agregar una salida?**\n",
        "ENTRADA:  input()\n",
        "SALIDA: print()\n",
        "\n",
        "MEDRANO PENICHE JAFET DE JESUS."
      ]
    }
  ]
}